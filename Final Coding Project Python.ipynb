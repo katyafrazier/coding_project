{
 "cells": [
  {
   "cell_type": "code",
   "execution_count": 16,
   "metadata": {
    "collapsed": true
   },
   "outputs": [],
   "source": [
    "import re\n",
    "import csv\n",
    "import sys\n",
    "import os\n",
    "import pandas as pd\n",
    "data_dict = {}"
   ]
  },
  {
   "cell_type": "code",
   "execution_count": 17,
   "metadata": {
    "collapsed": true,
    "scrolled": true
   },
   "outputs": [],
   "source": [
    "# This function takes each raw .csv file and extracts the peak area measurements.\n",
    "# If the measurement was successful, the function extracts the area.\n",
    "# If the measurement was not successful, the function applies 0 to the sample area.\n",
    "# The function then adds the sample name and corresponding area value to a dictionary,\n",
    "    # and converts that dictionary to a .csv file.\n",
    "\n",
    "def hplcmsms_dict_csv(file, output):\n",
    "    with open(file) as csvfile:\n",
    "        raw_file = csv.reader(csvfile, delimiter=',')\n",
    "        z = False\n",
    "        for row in raw_file:\n",
    "            x = csvfile.name\n",
    "            if 'Accepted' in row:\n",
    "                z = True\n",
    "                data_dict[x] = int(row[0])\n",
    "                break\n",
    "            else:\n",
    "                data_dict[x] = 0\n",
    "    df = pd.DataFrame([data_dict], columns=data_dict.keys())\n",
    "    df.to_csv(output, sep=',')\n"
   ]
  },
  {
   "cell_type": "code",
   "execution_count": 19,
   "metadata": {
    "collapsed": true,
    "scrolled": true
   },
   "outputs": [],
   "source": [
    "# This function applies the \"hplcmsms_rawdata\" function to a folder of .CSV files\n",
    "    # and saves it as an output .csv file.\n",
    "\n",
    "def hplcmsms_rawdata(rawdata_folder, output_data):\n",
    "    for file in os.listdir(rawdata_folder):\n",
    "        hplcmsms_dict_csv(rawdata_folder+file, output_data)"
   ]
  }
 ],
 "metadata": {
  "kernelspec": {
   "display_name": "Python 3",
   "language": "python",
   "name": "python3"
  },
  "language_info": {
   "codemirror_mode": {
    "name": "ipython",
    "version": 3
   },
   "file_extension": ".py",
   "mimetype": "text/x-python",
   "name": "python",
   "nbconvert_exporter": "python",
   "pygments_lexer": "ipython3",
   "version": "3.6.4"
  }
 },
 "nbformat": 4,
 "nbformat_minor": 2
}
