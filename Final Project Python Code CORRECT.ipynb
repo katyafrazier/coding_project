{
 "cells": [
  {
   "cell_type": "code",
   "execution_count": 16,
   "metadata": {
    "collapsed": true
   },
   "outputs": [],
   "source": [
    "import re\n",
    "import csv\n",
    "import sys\n",
    "import os\n",
    "import pandas as pd\n",
    "data_dict = {}"
   ]
  },
  {
   "cell_type": "code",
   "execution_count": 17,
   "metadata": {
    "collapsed": true,
    "scrolled": true
   },
   "outputs": [],
   "source": [
    "def hplcmsms_dict_csv(file, output):\n",
    "    with open(file) as csvfile:\n",
    "        raw_file = csv.reader(csvfile, delimiter=',')\n",
    "        z = False\n",
    "        for row in raw_file:\n",
    "            x = csvfile.name\n",
    "            if 'Accepted' in row:\n",
    "                z = True\n",
    "                data_dict[x] = int(row[0])\n",
    "                break\n",
    "            else:\n",
    "                data_dict[x] = 0\n",
    "    df = pd.DataFrame([data_dict], columns=data_dict.keys())\n",
    "    df.to_csv(output, sep=',')\n"
   ]
  },
  {
   "cell_type": "code",
   "execution_count": 18,
   "metadata": {
    "scrolled": true
   },
   "outputs": [],
   "source": [
    "for file in os.listdir(\"final_coding_project/rawdata/rawdata/\"):\n",
    "    hplcmsms_dict_csv(\"final_coding_project/rawdata/rawdata/\"+file, \"final_coding_project/python_data.csv\")"
   ]
  },
  {
   "cell_type": "code",
   "execution_count": null,
   "metadata": {
    "collapsed": true
   },
   "outputs": [],
   "source": []
  }
 ],
 "metadata": {
  "kernelspec": {
   "display_name": "Python 3",
   "language": "python",
   "name": "python3"
  },
  "language_info": {
   "codemirror_mode": {
    "name": "ipython",
    "version": 3
   },
   "file_extension": ".py",
   "mimetype": "text/x-python",
   "name": "python",
   "nbconvert_exporter": "python",
   "pygments_lexer": "ipython3",
   "version": "3.6.4"
  }
 },
 "nbformat": 4,
 "nbformat_minor": 2
}
